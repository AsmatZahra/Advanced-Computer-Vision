{
  "nbformat": 4,
  "nbformat_minor": 0,
  "metadata": {
    "colab": {
      "name": "MonuSeg_patches.ipynb",
      "provenance": [],
      "collapsed_sections": [],
      "authorship_tag": "ABX9TyM6hdUV46LhCWn0/5opV/Xo",
      "include_colab_link": true
    },
    "kernelspec": {
      "name": "python3",
      "display_name": "Python 3"
    },
    "widgets": {
      "application/vnd.jupyter.widget-state+json": {
        "8e1b7d7d36474530bc45ba4b4c2d9b7d": {
          "model_module": "@jupyter-widgets/controls",
          "model_name": "HBoxModel",
          "state": {
            "_view_name": "HBoxView",
            "_dom_classes": [],
            "_model_name": "HBoxModel",
            "_view_module": "@jupyter-widgets/controls",
            "_model_module_version": "1.5.0",
            "_view_count": null,
            "_view_module_version": "1.5.0",
            "box_style": "",
            "layout": "IPY_MODEL_5abee9c22e9f42a3a35e8e75d24e6eaa",
            "_model_module": "@jupyter-widgets/controls",
            "children": [
              "IPY_MODEL_96844601c12047bf92898d5a87208bb0",
              "IPY_MODEL_cd454b0e5c904f9c8b67f76222a12c7d"
            ]
          }
        },
        "5abee9c22e9f42a3a35e8e75d24e6eaa": {
          "model_module": "@jupyter-widgets/base",
          "model_name": "LayoutModel",
          "state": {
            "_view_name": "LayoutView",
            "grid_template_rows": null,
            "right": null,
            "justify_content": null,
            "_view_module": "@jupyter-widgets/base",
            "overflow": null,
            "_model_module_version": "1.2.0",
            "_view_count": null,
            "flex_flow": null,
            "width": null,
            "min_width": null,
            "border": null,
            "align_items": null,
            "bottom": null,
            "_model_module": "@jupyter-widgets/base",
            "top": null,
            "grid_column": null,
            "overflow_y": null,
            "overflow_x": null,
            "grid_auto_flow": null,
            "grid_area": null,
            "grid_template_columns": null,
            "flex": null,
            "_model_name": "LayoutModel",
            "justify_items": null,
            "grid_row": null,
            "max_height": null,
            "align_content": null,
            "visibility": null,
            "align_self": null,
            "height": null,
            "min_height": null,
            "padding": null,
            "grid_auto_rows": null,
            "grid_gap": null,
            "max_width": null,
            "order": null,
            "_view_module_version": "1.2.0",
            "grid_template_areas": null,
            "object_position": null,
            "object_fit": null,
            "grid_auto_columns": null,
            "margin": null,
            "display": null,
            "left": null
          }
        },
        "96844601c12047bf92898d5a87208bb0": {
          "model_module": "@jupyter-widgets/controls",
          "model_name": "IntProgressModel",
          "state": {
            "_view_name": "ProgressView",
            "style": "IPY_MODEL_f1f658a715184a22ae6d1a28c3d217d4",
            "_dom_classes": [],
            "description": "100%",
            "_model_name": "IntProgressModel",
            "bar_style": "success",
            "max": 1,
            "_view_module": "@jupyter-widgets/controls",
            "_model_module_version": "1.5.0",
            "value": 1,
            "_view_count": null,
            "_view_module_version": "1.5.0",
            "orientation": "horizontal",
            "min": 0,
            "description_tooltip": null,
            "_model_module": "@jupyter-widgets/controls",
            "layout": "IPY_MODEL_615dab68f7ed4c908695a8cf6724b514"
          }
        },
        "cd454b0e5c904f9c8b67f76222a12c7d": {
          "model_module": "@jupyter-widgets/controls",
          "model_name": "HTMLModel",
          "state": {
            "_view_name": "HTMLView",
            "style": "IPY_MODEL_4d9d4c305f4f4b3d9224c9e56d8efc40",
            "_dom_classes": [],
            "description": "",
            "_model_name": "HTMLModel",
            "placeholder": "​",
            "_view_module": "@jupyter-widgets/controls",
            "_model_module_version": "1.5.0",
            "value": " 1/1 [16:41&lt;00:00, 1001.38s/it]",
            "_view_count": null,
            "_view_module_version": "1.5.0",
            "description_tooltip": null,
            "_model_module": "@jupyter-widgets/controls",
            "layout": "IPY_MODEL_03e15e8d5e754e67843c40e03d5448a6"
          }
        },
        "f1f658a715184a22ae6d1a28c3d217d4": {
          "model_module": "@jupyter-widgets/controls",
          "model_name": "ProgressStyleModel",
          "state": {
            "_view_name": "StyleView",
            "_model_name": "ProgressStyleModel",
            "description_width": "initial",
            "_view_module": "@jupyter-widgets/base",
            "_model_module_version": "1.5.0",
            "_view_count": null,
            "_view_module_version": "1.2.0",
            "bar_color": null,
            "_model_module": "@jupyter-widgets/controls"
          }
        },
        "615dab68f7ed4c908695a8cf6724b514": {
          "model_module": "@jupyter-widgets/base",
          "model_name": "LayoutModel",
          "state": {
            "_view_name": "LayoutView",
            "grid_template_rows": null,
            "right": null,
            "justify_content": null,
            "_view_module": "@jupyter-widgets/base",
            "overflow": null,
            "_model_module_version": "1.2.0",
            "_view_count": null,
            "flex_flow": null,
            "width": null,
            "min_width": null,
            "border": null,
            "align_items": null,
            "bottom": null,
            "_model_module": "@jupyter-widgets/base",
            "top": null,
            "grid_column": null,
            "overflow_y": null,
            "overflow_x": null,
            "grid_auto_flow": null,
            "grid_area": null,
            "grid_template_columns": null,
            "flex": null,
            "_model_name": "LayoutModel",
            "justify_items": null,
            "grid_row": null,
            "max_height": null,
            "align_content": null,
            "visibility": null,
            "align_self": null,
            "height": null,
            "min_height": null,
            "padding": null,
            "grid_auto_rows": null,
            "grid_gap": null,
            "max_width": null,
            "order": null,
            "_view_module_version": "1.2.0",
            "grid_template_areas": null,
            "object_position": null,
            "object_fit": null,
            "grid_auto_columns": null,
            "margin": null,
            "display": null,
            "left": null
          }
        },
        "4d9d4c305f4f4b3d9224c9e56d8efc40": {
          "model_module": "@jupyter-widgets/controls",
          "model_name": "DescriptionStyleModel",
          "state": {
            "_view_name": "StyleView",
            "_model_name": "DescriptionStyleModel",
            "description_width": "",
            "_view_module": "@jupyter-widgets/base",
            "_model_module_version": "1.5.0",
            "_view_count": null,
            "_view_module_version": "1.2.0",
            "_model_module": "@jupyter-widgets/controls"
          }
        },
        "03e15e8d5e754e67843c40e03d5448a6": {
          "model_module": "@jupyter-widgets/base",
          "model_name": "LayoutModel",
          "state": {
            "_view_name": "LayoutView",
            "grid_template_rows": null,
            "right": null,
            "justify_content": null,
            "_view_module": "@jupyter-widgets/base",
            "overflow": null,
            "_model_module_version": "1.2.0",
            "_view_count": null,
            "flex_flow": null,
            "width": null,
            "min_width": null,
            "border": null,
            "align_items": null,
            "bottom": null,
            "_model_module": "@jupyter-widgets/base",
            "top": null,
            "grid_column": null,
            "overflow_y": null,
            "overflow_x": null,
            "grid_auto_flow": null,
            "grid_area": null,
            "grid_template_columns": null,
            "flex": null,
            "_model_name": "LayoutModel",
            "justify_items": null,
            "grid_row": null,
            "max_height": null,
            "align_content": null,
            "visibility": null,
            "align_self": null,
            "height": null,
            "min_height": null,
            "padding": null,
            "grid_auto_rows": null,
            "grid_gap": null,
            "max_width": null,
            "order": null,
            "_view_module_version": "1.2.0",
            "grid_template_areas": null,
            "object_position": null,
            "object_fit": null,
            "grid_auto_columns": null,
            "margin": null,
            "display": null,
            "left": null
          }
        }
      }
    }
  },
  "cells": [
    {
      "cell_type": "markdown",
      "metadata": {
        "id": "view-in-github",
        "colab_type": "text"
      },
      "source": [
        "<a href=\"https://colab.research.google.com/github/AsmatZahra/Advanced-Computer-Vision/blob/master/MonuSeg_patches.ipynb\" target=\"_parent\"><img src=\"https://colab.research.google.com/assets/colab-badge.svg\" alt=\"Open In Colab\"/></a>"
      ]
    },
    {
      "cell_type": "code",
      "metadata": {
        "id": "VVq3hW0o3-n2",
        "colab_type": "code",
        "colab": {}
      },
      "source": [
        "from google.colab import drive\n",
        "drive.mount('/content/drive')"
      ],
      "execution_count": 0,
      "outputs": []
    },
    {
      "cell_type": "code",
      "metadata": {
        "id": "yVvUtnTe4S48",
        "colab_type": "code",
        "colab": {
          "base_uri": "https://localhost:8080/",
          "height": 36
        },
        "outputId": "748ca930-6cc5-4f4f-9411-7d819ba6cefd"
      },
      "source": [
        "%cd /content/drive/My Drive/Colab Notebooks/acv assignments/assignment 3"
      ],
      "execution_count": 2,
      "outputs": [
        {
          "output_type": "stream",
          "text": [
            "/content/drive/My Drive/Colab Notebooks/acv assignments/assignment 3\n"
          ],
          "name": "stdout"
        }
      ]
    },
    {
      "cell_type": "code",
      "metadata": {
        "id": "2_5pmkPsKtQM",
        "colab_type": "code",
        "colab": {}
      },
      "source": [
        "!ls"
      ],
      "execution_count": 0,
      "outputs": []
    },
    {
      "cell_type": "code",
      "metadata": {
        "id": "tGNVWkgZJQOE",
        "colab_type": "code",
        "colab": {
          "base_uri": "https://localhost:8080/",
          "height": 130
        },
        "outputId": "de2f97f4-2815-437d-fbe7-52205c741761"
      },
      "source": [
        "try:\n",
        "  %tensorflow_version only exists in Colab.\n",
        "  %tensorflow_version 1.x\n",
        "except Exception:\n",
        "  pass\n",
        "import tensorflow as tf"
      ],
      "execution_count": 4,
      "outputs": [
        {
          "output_type": "stream",
          "text": [
            "Unknown TensorFlow version: only exists in Colab.\n",
            "Currently selected TF version: 2.x\n",
            "Available versions:\n",
            " * 1.x\n",
            " * 2.x\n",
            "TensorFlow 1.x selected.\n"
          ],
          "name": "stdout"
        }
      ]
    },
    {
      "cell_type": "code",
      "metadata": {
        "id": "HJnNJ01RSZ9Q",
        "colab_type": "code",
        "colab": {
          "base_uri": "https://localhost:8080/",
          "height": 469
        },
        "outputId": "4b9344f0-86f6-4a57-9e38-17faf0feb48c"
      },
      "source": [
        "!pip install patchify"
      ],
      "execution_count": 5,
      "outputs": [
        {
          "output_type": "stream",
          "text": [
            "Collecting patchify\n",
            "  Downloading https://files.pythonhosted.org/packages/60/62/025771b47474d3cfaf3af1590e7ec37ea98e77d1f5ec681f3549521a24d3/patchify-0.1.1.tar.gz\n",
            "Requirement already satisfied: numpy in /usr/local/lib/python3.6/dist-packages (from patchify) (1.18.2)\n",
            "Requirement already satisfied: scikit-image in /usr/local/lib/python3.6/dist-packages (from patchify) (0.16.2)\n",
            "Requirement already satisfied: networkx>=2.0 in /usr/local/lib/python3.6/dist-packages (from scikit-image->patchify) (2.4)\n",
            "Requirement already satisfied: scipy>=0.19.0 in /usr/local/lib/python3.6/dist-packages (from scikit-image->patchify) (1.4.1)\n",
            "Requirement already satisfied: PyWavelets>=0.4.0 in /usr/local/lib/python3.6/dist-packages (from scikit-image->patchify) (1.1.1)\n",
            "Requirement already satisfied: matplotlib!=3.0.0,>=2.0.0 in /usr/local/lib/python3.6/dist-packages (from scikit-image->patchify) (3.2.1)\n",
            "Requirement already satisfied: pillow>=4.3.0 in /usr/local/lib/python3.6/dist-packages (from scikit-image->patchify) (7.0.0)\n",
            "Requirement already satisfied: imageio>=2.3.0 in /usr/local/lib/python3.6/dist-packages (from scikit-image->patchify) (2.4.1)\n",
            "Requirement already satisfied: decorator>=4.3.0 in /usr/local/lib/python3.6/dist-packages (from networkx>=2.0->scikit-image->patchify) (4.4.2)\n",
            "Requirement already satisfied: pyparsing!=2.0.4,!=2.1.2,!=2.1.6,>=2.0.1 in /usr/local/lib/python3.6/dist-packages (from matplotlib!=3.0.0,>=2.0.0->scikit-image->patchify) (2.4.7)\n",
            "Requirement already satisfied: kiwisolver>=1.0.1 in /usr/local/lib/python3.6/dist-packages (from matplotlib!=3.0.0,>=2.0.0->scikit-image->patchify) (1.2.0)\n",
            "Requirement already satisfied: python-dateutil>=2.1 in /usr/local/lib/python3.6/dist-packages (from matplotlib!=3.0.0,>=2.0.0->scikit-image->patchify) (2.8.1)\n",
            "Requirement already satisfied: cycler>=0.10 in /usr/local/lib/python3.6/dist-packages (from matplotlib!=3.0.0,>=2.0.0->scikit-image->patchify) (0.10.0)\n",
            "Requirement already satisfied: six>=1.5 in /usr/local/lib/python3.6/dist-packages (from python-dateutil>=2.1->matplotlib!=3.0.0,>=2.0.0->scikit-image->patchify) (1.12.0)\n",
            "Building wheels for collected packages: patchify\n",
            "  Building wheel for patchify (setup.py) ... \u001b[?25l\u001b[?25hdone\n",
            "  Created wheel for patchify: filename=patchify-0.1.1-cp36-none-any.whl size=1972 sha256=73e3c8ca2027144f4ec339cba82e285cf2d2470b051ec3c519f0d4fee768dcf1\n",
            "  Stored in directory: /root/.cache/pip/wheels/d9/80/60/b50557046af4fd5cf08b521288c5102af598f821c962794790\n",
            "Successfully built patchify\n",
            "Installing collected packages: patchify\n",
            "Successfully installed patchify-0.1.1\n"
          ],
          "name": "stdout"
        }
      ]
    },
    {
      "cell_type": "code",
      "metadata": {
        "id": "WaOg7hT3G0oS",
        "colab_type": "code",
        "colab": {
          "base_uri": "https://localhost:8080/",
          "height": 36
        },
        "outputId": "b42a9bbd-ae98-4366-bf2f-00dd3247c85d"
      },
      "source": [
        "import cv2\n",
        "import os\n",
        "import random\n",
        "import pandas as pd\n",
        "import numpy as np\n",
        "from tqdm import tqdm_notebook, tnrange\n",
        "from skimage.io import imread, imshow, concatenate_images\n",
        "from skimage.transform import resize\n",
        "from skimage.morphology import label\n",
        "from keras.preprocessing.image import ImageDataGenerator, array_to_img, img_to_array, load_img\n",
        "from sklearn.feature_extraction import image\n",
        "from patchify import patchify, unpatchify\n",
        "\n"
      ],
      "execution_count": 6,
      "outputs": [
        {
          "output_type": "stream",
          "text": [
            "Using TensorFlow backend.\n"
          ],
          "name": "stderr"
        }
      ]
    },
    {
      "cell_type": "code",
      "metadata": {
        "id": "tvZLaTGYGlFk",
        "colab_type": "code",
        "colab": {}
      },
      "source": [
        "#Setting some parameters\n",
        "path_train_groundtruth= \"check/\"\n",
        "#path_train_images= \"MonuSeg/Training/TissueImages/\"\n",
        "#path_train_groundtruth= \"MonuSeg/Training/GroundTruth/\"\n",
        "\n",
        "Npath_train_images= \"MonuSegForGenerator3/Training/TissueImages/\"\n",
        "Npath_train_groundtruth= \"MonuSegForGenerator3/Training/GroundTruths/\"\n",
        "\n",
        "Orig_img_width = 1000\n",
        "Orig_img_height = 1000\n",
        "\n",
        "patch_img_width= 256\n",
        "patch_img_height=256\n",
        "\n",
        "overlap_gap=100"
      ],
      "execution_count": 0,
      "outputs": []
    },
    {
      "cell_type": "code",
      "metadata": {
        "id": "3m-G2n0SuT7b",
        "colab_type": "code",
        "colab": {
          "base_uri": "https://localhost:8080/",
          "height": 55
        },
        "outputId": "3908c477-e23e-4d61-b569-f10533d5a94b"
      },
      "source": [
        "count = next(os.walk(Npath_train_images))[2]\n",
        "print(\"No. of tissueimages = \", len(count))\n",
        "count2 = next(os.walk(Npath_train_groundtruth))[2]\n",
        "print(\"No. of tissueimages = \", len(count2))"
      ],
      "execution_count": 125,
      "outputs": [
        {
          "output_type": "stream",
          "text": [
            "No. of tissueimages =  1920\n",
            "No. of tissueimages =  1920\n"
          ],
          "name": "stdout"
        }
      ]
    },
    {
      "cell_type": "code",
      "metadata": {
        "id": "gK-ogqb-GuY2",
        "colab_type": "code",
        "colab": {}
      },
      "source": [
        "#ids = next(os.walk(path_train_images))[2] # list of names all images in the given path\n",
        "ids_groundTruth= next(os.walk(path_train_groundtruth))[2]\n",
        "print(\"No. of images = \", len(ids_groundTruth))\n",
        "print(ids_groundTruth)\n",
        "#print(\"No. of images_GroundTruth = \", len(ids_groundTruth))"
      ],
      "execution_count": 0,
      "outputs": []
    },
    {
      "cell_type": "code",
      "metadata": {
        "id": "rGKG_jy9Hpku",
        "colab_type": "code",
        "colab": {
          "base_uri": "https://localhost:8080/",
          "height": 144,
          "referenced_widgets": [
            "8e1b7d7d36474530bc45ba4b4c2d9b7d",
            "5abee9c22e9f42a3a35e8e75d24e6eaa",
            "96844601c12047bf92898d5a87208bb0",
            "cd454b0e5c904f9c8b67f76222a12c7d",
            "f1f658a715184a22ae6d1a28c3d217d4",
            "615dab68f7ed4c908695a8cf6724b514",
            "4d9d4c305f4f4b3d9224c9e56d8efc40",
            "03e15e8d5e754e67843c40e03d5448a6"
          ]
        },
        "outputId": "e9c7fa44-75e4-4912-f148-e25eb5daf67d"
      },
      "source": [
        "# Make patches of n images in a folder\n",
        "i=0\n",
        "j=0\n",
        "for n, id_ in tqdm_notebook(enumerate(ids_groundTruth), total=len(ids_groundTruth)):\n",
        "  '''Load Tissue images # 1st Run\n",
        "  image_1 = load_img(path_train_images + id_, color_mode = \"grayscale\")\n",
        "  x_img = img_to_array(image_1)\n",
        "  x_img= np.reshape(x_img,(Orig_img_height,Orig_img_width))\n",
        "  patches = patchify(x_img, (patch_img_height,patch_img_width), step=overlap_gap) # split image into small  patches.\n",
        "\n",
        "  for i in range(len(patches[0])):\n",
        "    for j in range(len(patches[0])):\n",
        "      img = patches[i][j]\n",
        "      cv2.imwrite(Npath_train_images+\"Zwseg\"+str(i)+str(j)+\".png\", img)  '''\n",
        "  #Load masks #Comment 1st Run and then 2nd Run(Can be executed at a time)\n",
        "  #mask_id_= id_[:-4]+\"_bin_mask.png\"\n",
        "  mask_1= load_img(path_train_groundtruth+id_, color_mode = \"grayscale\")\n",
        "  mask = img_to_array(mask_1)\n",
        "  mask= np.reshape(mask,(Orig_img_height,Orig_img_width))\n",
        "  patches_mask= patchify(mask, (patch_img_height,patch_img_width), step=overlap_gap) # split image into small  patches\n",
        "  \n",
        "  for i in range(len(patches_mask[0])):\n",
        "    for j in range(len(patches_mask[0])):\n",
        "      img = patches_mask[i][j]\n",
        "      cv2.imwrite(Npath_train_groundtruth+\"Zwseg\"+str(i)+str(j)+\".png\", img)  "
      ],
      "execution_count": 123,
      "outputs": [
        {
          "output_type": "stream",
          "text": [
            "/usr/local/lib/python3.6/dist-packages/ipykernel_launcher.py:3: TqdmDeprecationWarning: This function will be removed in tqdm==5.0.0\n",
            "Please use `tqdm.notebook.tqdm` instead of `tqdm.tqdm_notebook`\n",
            "  This is separate from the ipykernel package so we can avoid doing imports until\n"
          ],
          "name": "stderr"
        },
        {
          "output_type": "display_data",
          "data": {
            "application/vnd.jupyter.widget-view+json": {
              "model_id": "8e1b7d7d36474530bc45ba4b4c2d9b7d",
              "version_minor": 0,
              "version_major": 2
            },
            "text/plain": [
              "HBox(children=(IntProgress(value=0, max=1), HTML(value='')))"
            ]
          },
          "metadata": {
            "tags": []
          }
        },
        {
          "output_type": "stream",
          "text": [
            "\n"
          ],
          "name": "stdout"
        }
      ]
    },
    {
      "cell_type": "code",
      "metadata": {
        "id": "9qb06uzkJo1g",
        "colab_type": "code",
        "colab": {}
      },
      "source": [
        ""
      ],
      "execution_count": 0,
      "outputs": []
    }
  ]
}